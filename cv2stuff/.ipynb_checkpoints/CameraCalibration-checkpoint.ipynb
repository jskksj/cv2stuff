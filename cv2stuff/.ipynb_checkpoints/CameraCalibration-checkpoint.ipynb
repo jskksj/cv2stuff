{
 "cells": [
  {
   "cell_type": "code",
   "execution_count": 2,
   "metadata": {
    "collapsed": false
   },
   "outputs": [],
   "source": [
    "from pathlib import Path\n",
    "import cv2\n",
    "import numpy as np"
   ]
  },
  {
   "cell_type": "code",
   "execution_count": 3,
   "metadata": {
    "collapsed": false
   },
   "outputs": [
    {
     "data": {
      "text/plain": [
       "PosixPath('/home/jsk/GitHub/cv2stuff/cv2stuff')"
      ]
     },
     "execution_count": 3,
     "metadata": {},
     "output_type": "execute_result"
    }
   ],
   "source": [
    "Path.cwd()"
   ]
  },
  {
   "cell_type": "code",
   "execution_count": 4,
   "metadata": {
    "collapsed": false
   },
   "outputs": [
    {
     "data": {
      "text/plain": [
       "PosixPath('/home/jsk/GitHub/cv2stuff/cv2stuff/tests/images')"
      ]
     },
     "execution_count": 4,
     "metadata": {},
     "output_type": "execute_result"
    }
   ],
   "source": [
    "calibration_images_path = Path.cwd() / Path('tests') / Path('images') \n",
    "calibration_images_path"
   ]
  },
  {
   "cell_type": "code",
   "execution_count": 5,
   "metadata": {
    "collapsed": false
   },
   "outputs": [
    {
     "data": {
      "text/plain": [
       "(PosixPath('/home/jsk/GitHub/cv2stuff/cv2stuff/tests/images/left04.jpg'),\n",
       " PosixPath('/home/jsk/GitHub/cv2stuff/cv2stuff/tests/images/left14.jpg'),\n",
       " PosixPath('/home/jsk/GitHub/cv2stuff/cv2stuff/tests/images/left03.jpg'),\n",
       " PosixPath('/home/jsk/GitHub/cv2stuff/cv2stuff/tests/images/left02.jpg'),\n",
       " PosixPath('/home/jsk/GitHub/cv2stuff/cv2stuff/tests/images/left06.jpg'),\n",
       " PosixPath('/home/jsk/GitHub/cv2stuff/cv2stuff/tests/images/left12.jpg'),\n",
       " PosixPath('/home/jsk/GitHub/cv2stuff/cv2stuff/tests/images/left13.jpg'),\n",
       " PosixPath('/home/jsk/GitHub/cv2stuff/cv2stuff/tests/images/left09.jpg'),\n",
       " PosixPath('/home/jsk/GitHub/cv2stuff/cv2stuff/tests/images/left01.jpg'),\n",
       " PosixPath('/home/jsk/GitHub/cv2stuff/cv2stuff/tests/images/left.jpg'),\n",
       " PosixPath('/home/jsk/GitHub/cv2stuff/cv2stuff/tests/images/left08.jpg'),\n",
       " PosixPath('/home/jsk/GitHub/cv2stuff/cv2stuff/tests/images/left11.jpg'),\n",
       " PosixPath('/home/jsk/GitHub/cv2stuff/cv2stuff/tests/images/left07.jpg'),\n",
       " PosixPath('/home/jsk/GitHub/cv2stuff/cv2stuff/tests/images/left05.jpg'))"
      ]
     },
     "execution_count": 5,
     "metadata": {},
     "output_type": "execute_result"
    }
   ],
   "source": [
    "calibration_images = tuple(calibration_images_path.glob('left*'))\n",
    "calibration_images"
   ]
  },
  {
   "cell_type": "code",
   "execution_count": 6,
   "metadata": {
    "collapsed": false
   },
   "outputs": [
    {
     "data": {
      "text/plain": [
       "PosixPath('/home/jsk/GitHub/cv2stuff/cv2stuff/tests/images/left04.jpg')"
      ]
     },
     "execution_count": 6,
     "metadata": {},
     "output_type": "execute_result"
    }
   ],
   "source": [
    "calibration_images[0]"
   ]
  },
  {
   "cell_type": "code",
   "execution_count": 7,
   "metadata": {
    "collapsed": false
   },
   "outputs": [
    {
     "data": {
      "text/plain": [
       "'/home/jsk/GitHub/cv2stuff/cv2stuff/tests/images/left04.jpg'"
      ]
     },
     "execution_count": 7,
     "metadata": {},
     "output_type": "execute_result"
    }
   ],
   "source": [
    "str(calibration_images[0])"
   ]
  },
  {
   "cell_type": "code",
   "execution_count": 8,
   "metadata": {
    "collapsed": false
   },
   "outputs": [
    {
     "data": {
      "text/plain": [
       "[PosixPath('/home/jsk/GitHub/cv2stuff/cv2stuff/tests/images/my_photo-2.jpg'),\n",
       " PosixPath('/home/jsk/GitHub/cv2stuff/cv2stuff/tests/images/my_photo-12.jpg'),\n",
       " PosixPath('/home/jsk/GitHub/cv2stuff/cv2stuff/tests/images/my_photo-19.jpg'),\n",
       " PosixPath('/home/jsk/GitHub/cv2stuff/cv2stuff/tests/images/my_photo-6.jpg'),\n",
       " PosixPath('/home/jsk/GitHub/cv2stuff/cv2stuff/tests/images/left04.jpg'),\n",
       " PosixPath('/home/jsk/GitHub/cv2stuff/cv2stuff/tests/images/right13.jpg'),\n",
       " PosixPath('/home/jsk/GitHub/cv2stuff/cv2stuff/tests/images/my_photo-14.jpg'),\n",
       " PosixPath('/home/jsk/GitHub/cv2stuff/cv2stuff/tests/images/right07.jpg'),\n",
       " PosixPath('/home/jsk/GitHub/cv2stuff/cv2stuff/tests/images/my_photo-20.jpg'),\n",
       " PosixPath('/home/jsk/GitHub/cv2stuff/cv2stuff/tests/images/my_photo-1.jpg'),\n",
       " PosixPath('/home/jsk/GitHub/cv2stuff/cv2stuff/tests/images/right01.jpg'),\n",
       " PosixPath('/home/jsk/GitHub/cv2stuff/cv2stuff/tests/images/my_photo-3.jpg'),\n",
       " PosixPath('/home/jsk/GitHub/cv2stuff/cv2stuff/tests/images/my_photo-8.jpg'),\n",
       " PosixPath('/home/jsk/GitHub/cv2stuff/cv2stuff/tests/images/left14.jpg'),\n",
       " PosixPath('/home/jsk/GitHub/cv2stuff/cv2stuff/tests/images/right02.jpg'),\n",
       " PosixPath('/home/jsk/GitHub/cv2stuff/cv2stuff/tests/images/my_photo-4.jpg'),\n",
       " PosixPath('/home/jsk/GitHub/cv2stuff/cv2stuff/tests/images/left03.jpg'),\n",
       " PosixPath('/home/jsk/GitHub/cv2stuff/cv2stuff/tests/images/left02.jpg'),\n",
       " PosixPath('/home/jsk/GitHub/cv2stuff/cv2stuff/tests/images/right11.jpg'),\n",
       " PosixPath('/home/jsk/GitHub/cv2stuff/cv2stuff/tests/images/lena.jpg'),\n",
       " PosixPath('/home/jsk/GitHub/cv2stuff/cv2stuff/tests/images/my_photo-18.jpg'),\n",
       " PosixPath('/home/jsk/GitHub/cv2stuff/cv2stuff/tests/images/undistort.jpg'),\n",
       " PosixPath('/home/jsk/GitHub/cv2stuff/cv2stuff/tests/images/right05.jpg'),\n",
       " PosixPath('/home/jsk/GitHub/cv2stuff/cv2stuff/tests/images/right.jpg'),\n",
       " PosixPath('/home/jsk/GitHub/cv2stuff/cv2stuff/tests/images/my_photo-13.jpg'),\n",
       " PosixPath('/home/jsk/GitHub/cv2stuff/cv2stuff/tests/images/right12.jpg'),\n",
       " PosixPath('/home/jsk/GitHub/cv2stuff/cv2stuff/tests/images/my_photo-11.jpg'),\n",
       " PosixPath('/home/jsk/GitHub/cv2stuff/cv2stuff/tests/images/right03.jpg'),\n",
       " PosixPath('/home/jsk/GitHub/cv2stuff/cv2stuff/tests/images/left06.jpg'),\n",
       " PosixPath('/home/jsk/GitHub/cv2stuff/cv2stuff/tests/images/left12.jpg'),\n",
       " PosixPath('/home/jsk/GitHub/cv2stuff/cv2stuff/tests/images/my_photo-9.jpg'),\n",
       " PosixPath('/home/jsk/GitHub/cv2stuff/cv2stuff/tests/images/my_photo-5.jpg'),\n",
       " PosixPath('/home/jsk/GitHub/cv2stuff/cv2stuff/tests/images/right06.jpg'),\n",
       " PosixPath('/home/jsk/GitHub/cv2stuff/cv2stuff/tests/images/my_photo-17.jpg'),\n",
       " PosixPath('/home/jsk/GitHub/cv2stuff/cv2stuff/tests/images/left13.jpg'),\n",
       " PosixPath('/home/jsk/GitHub/cv2stuff/cv2stuff/tests/images/right14.jpg'),\n",
       " PosixPath('/home/jsk/GitHub/cv2stuff/cv2stuff/tests/images/left09.jpg'),\n",
       " PosixPath('/home/jsk/GitHub/cv2stuff/cv2stuff/tests/images/right04.jpg'),\n",
       " PosixPath('/home/jsk/GitHub/cv2stuff/cv2stuff/tests/images/chessboard.png'),\n",
       " PosixPath('/home/jsk/GitHub/cv2stuff/cv2stuff/tests/images/left01.jpg'),\n",
       " PosixPath('/home/jsk/GitHub/cv2stuff/cv2stuff/tests/images/left.jpg'),\n",
       " PosixPath('/home/jsk/GitHub/cv2stuff/cv2stuff/tests/images/my_photo-7.jpg'),\n",
       " PosixPath('/home/jsk/GitHub/cv2stuff/cv2stuff/tests/images/blank.jpg'),\n",
       " PosixPath('/home/jsk/GitHub/cv2stuff/cv2stuff/tests/images/left08.jpg'),\n",
       " PosixPath('/home/jsk/GitHub/cv2stuff/cv2stuff/tests/images/my_photo-15.jpg'),\n",
       " PosixPath('/home/jsk/GitHub/cv2stuff/cv2stuff/tests/images/my_photo-21.jpg'),\n",
       " PosixPath('/home/jsk/GitHub/cv2stuff/cv2stuff/tests/images/right08.jpg'),\n",
       " PosixPath('/home/jsk/GitHub/cv2stuff/cv2stuff/tests/images/left11.jpg'),\n",
       " PosixPath('/home/jsk/GitHub/cv2stuff/cv2stuff/tests/images/my_photo-10.jpg'),\n",
       " PosixPath('/home/jsk/GitHub/cv2stuff/cv2stuff/tests/images/right09.jpg'),\n",
       " PosixPath('/home/jsk/GitHub/cv2stuff/cv2stuff/tests/images/my_photo-16.jpg'),\n",
       " PosixPath('/home/jsk/GitHub/cv2stuff/cv2stuff/tests/images/left07.jpg'),\n",
       " PosixPath('/home/jsk/GitHub/cv2stuff/cv2stuff/tests/images/left05.jpg')]"
      ]
     },
     "execution_count": 8,
     "metadata": {},
     "output_type": "execute_result"
    }
   ],
   "source": [
    "[image for image in calibration_images_path.iterdir() if calibration_images_path.is_dir()]"
   ]
  },
  {
   "cell_type": "code",
   "execution_count": 9,
   "metadata": {
    "collapsed": true
   },
   "outputs": [],
   "source": [
    "square_size = 30 # 30 mm for the checkboard squares I presume.\n",
    "pattern_dimensions = (9, 6) # The inner corners of the sample chessboard image."
   ]
  },
  {
   "cell_type": "code",
   "execution_count": 10,
   "metadata": {
    "collapsed": false
   },
   "outputs": [],
   "source": [
    "pattern_points = np.zeros((np.prod(pattern_dimensions), 3), np.float32) # zero out the array for the corner points in 3D.\n",
    "pattern_points[:, :2] = np.indices(pattern_dimensions).T.reshape(-1, 2) # index the point array."
   ]
  },
  {
   "cell_type": "code",
   "execution_count": 11,
   "metadata": {
    "collapsed": false
   },
   "outputs": [],
   "source": [
    "pattern_points[:, :2] = np.indices(pattern_dimensions).T.reshape(-1, 2) # why??"
   ]
  },
  {
   "cell_type": "code",
   "execution_count": 12,
   "metadata": {
    "collapsed": false
   },
   "outputs": [
    {
     "data": {
      "text/plain": [
       "array([[ 0.,  0.,  0.],\n",
       "       [ 1.,  0.,  0.],\n",
       "       [ 2.,  0.,  0.],\n",
       "       [ 3.,  0.,  0.],\n",
       "       [ 4.,  0.,  0.],\n",
       "       [ 5.,  0.,  0.],\n",
       "       [ 6.,  0.,  0.],\n",
       "       [ 7.,  0.,  0.],\n",
       "       [ 8.,  0.,  0.],\n",
       "       [ 0.,  1.,  0.],\n",
       "       [ 1.,  1.,  0.],\n",
       "       [ 2.,  1.,  0.],\n",
       "       [ 3.,  1.,  0.],\n",
       "       [ 4.,  1.,  0.],\n",
       "       [ 5.,  1.,  0.],\n",
       "       [ 6.,  1.,  0.],\n",
       "       [ 7.,  1.,  0.],\n",
       "       [ 8.,  1.,  0.],\n",
       "       [ 0.,  2.,  0.],\n",
       "       [ 1.,  2.,  0.],\n",
       "       [ 2.,  2.,  0.],\n",
       "       [ 3.,  2.,  0.],\n",
       "       [ 4.,  2.,  0.],\n",
       "       [ 5.,  2.,  0.],\n",
       "       [ 6.,  2.,  0.],\n",
       "       [ 7.,  2.,  0.],\n",
       "       [ 8.,  2.,  0.],\n",
       "       [ 0.,  3.,  0.],\n",
       "       [ 1.,  3.,  0.],\n",
       "       [ 2.,  3.,  0.],\n",
       "       [ 3.,  3.,  0.],\n",
       "       [ 4.,  3.,  0.],\n",
       "       [ 5.,  3.,  0.],\n",
       "       [ 6.,  3.,  0.],\n",
       "       [ 7.,  3.,  0.],\n",
       "       [ 8.,  3.,  0.],\n",
       "       [ 0.,  4.,  0.],\n",
       "       [ 1.,  4.,  0.],\n",
       "       [ 2.,  4.,  0.],\n",
       "       [ 3.,  4.,  0.],\n",
       "       [ 4.,  4.,  0.],\n",
       "       [ 5.,  4.,  0.],\n",
       "       [ 6.,  4.,  0.],\n",
       "       [ 7.,  4.,  0.],\n",
       "       [ 8.,  4.,  0.],\n",
       "       [ 0.,  5.,  0.],\n",
       "       [ 1.,  5.,  0.],\n",
       "       [ 2.,  5.,  0.],\n",
       "       [ 3.,  5.,  0.],\n",
       "       [ 4.,  5.,  0.],\n",
       "       [ 5.,  5.,  0.],\n",
       "       [ 6.,  5.,  0.],\n",
       "       [ 7.,  5.,  0.],\n",
       "       [ 8.,  5.,  0.]], dtype=float32)"
      ]
     },
     "execution_count": 12,
     "metadata": {},
     "output_type": "execute_result"
    }
   ],
   "source": [
    "pattern_points"
   ]
  },
  {
   "cell_type": "code",
   "execution_count": 13,
   "metadata": {
    "collapsed": true
   },
   "outputs": [],
   "source": [
    "obj_points = [] # points in 3D space of the corners of the chessboard as it is 'posed'.\n",
    "img_points = [] # points in 2D image space of the corners of the chessboard."
   ]
  },
  {
   "cell_type": "code",
   "execution_count": 14,
   "metadata": {
    "collapsed": true
   },
   "outputs": [],
   "source": [
    "h, w = 0, 0\n",
    "img_names_undistort = []"
   ]
  },
  {
   "cell_type": "code",
   "execution_count": 15,
   "metadata": {
    "collapsed": false
   },
   "outputs": [
    {
     "data": {
      "text/plain": [
       "array([[ 0,  0,  1, ...,  0,  5,  0],\n",
       "       [ 0,  1,  3, ...,  6, 12,  1],\n",
       "       [ 2,  3,  5, ..., 10, 14,  0],\n",
       "       ..., \n",
       "       [10, 37, 41, ..., 61, 48,  6],\n",
       "       [ 8, 34, 35, ..., 43, 41,  8],\n",
       "       [ 0, 11, 10, ...,  9, 13,  0]], dtype=uint8)"
      ]
     },
     "execution_count": 15,
     "metadata": {},
     "output_type": "execute_result"
    }
   ],
   "source": [
    "img = cv2.imread(str(calibration_images[0]), 0)\n",
    "img"
   ]
  },
  {
   "cell_type": "code",
   "execution_count": 16,
   "metadata": {
    "collapsed": false
   },
   "outputs": [
    {
     "data": {
      "text/plain": [
       "(640, 480)"
      ]
     },
     "execution_count": 16,
     "metadata": {},
     "output_type": "execute_result"
    }
   ],
   "source": [
    "h, w = img.shape[:2]\n",
    "w, h"
   ]
  },
  {
   "cell_type": "code",
   "execution_count": 17,
   "metadata": {
    "collapsed": false
   },
   "outputs": [
    {
     "data": {
      "text/plain": [
       "(True, array([[[ 189.55949402,  130.80377197]],\n",
       " \n",
       "        [[ 223.65052795,  126.63329315]],\n",
       " \n",
       "        [[ 260.48284912,  123.58744812]],\n",
       " \n",
       "        [[ 299.34329224,  120.45898438]],\n",
       " \n",
       "        [[ 341.2321167 ,  117.55725098]],\n",
       " \n",
       "        [[ 382.14770508,  114.6219635 ]],\n",
       " \n",
       "        [[ 425.7355957 ,  112.28601074]],\n",
       " \n",
       "        [[ 469.96139526,  109.99097443]],\n",
       " \n",
       "        [[ 515.49023438,  110.455513  ]],\n",
       " \n",
       "        [[ 185.43984985,  168.39332581]],\n",
       " \n",
       "        [[ 221.19148254,  166.13241577]],\n",
       " \n",
       "        [[ 258.17910767,  163.41633606]],\n",
       " \n",
       "        [[ 297.91363525,  160.52485657]],\n",
       " \n",
       "        [[ 339.36386108,  158.48442078]],\n",
       " \n",
       "        [[ 382.74053955,  156.50558472]],\n",
       " \n",
       "        [[ 427.01397705,  154.66320801]],\n",
       " \n",
       "        [[ 473.07293701,  153.878479  ]],\n",
       " \n",
       "        [[ 517.82299805,  151.86753845]],\n",
       " \n",
       "        [[ 183.20854187,  207.65548706]],\n",
       " \n",
       "        [[ 218.94615173,  205.51611328]],\n",
       " \n",
       "        [[ 256.99111938,  204.00787354]],\n",
       " \n",
       "        [[ 297.23669434,  202.67552185]],\n",
       " \n",
       "        [[ 338.91775513,  201.53143311]],\n",
       " \n",
       "        [[ 382.83529663,  200.01065063]],\n",
       " \n",
       "        [[ 427.95831299,  199.02210999]],\n",
       " \n",
       "        [[ 473.84472656,  198.29316711]],\n",
       " \n",
       "        [[ 521.37390137,  197.61187744]],\n",
       " \n",
       "        [[ 181.39686584,  247.35498047]],\n",
       " \n",
       "        [[ 217.13360596,  246.67214966]],\n",
       " \n",
       "        [[ 255.64515686,  246.41105652]],\n",
       " \n",
       "        [[ 297.28439331,  246.15478516]],\n",
       " \n",
       "        [[ 338.44342041,  245.81570435]],\n",
       " \n",
       "        [[ 382.54217529,  244.86784363]],\n",
       " \n",
       "        [[ 429.17205811,  243.91017151]],\n",
       " \n",
       "        [[ 476.24237061,  244.44560242]],\n",
       " \n",
       "        [[ 520.50170898,  244.2472229 ]],\n",
       " \n",
       "        [[ 180.49200439,  288.48971558]],\n",
       " \n",
       "        [[ 216.74630737,  288.35894775]],\n",
       " \n",
       "        [[ 254.7671051 ,  289.82138062]],\n",
       " \n",
       "        [[ 295.03521729,  290.48721313]],\n",
       " \n",
       "        [[ 337.53768921,  289.96951294]],\n",
       " \n",
       "        [[ 382.65899658,  291.27322388]],\n",
       " \n",
       "        [[ 429.01873779,  292.18789673]],\n",
       " \n",
       "        [[ 474.58926392,  292.14987183]],\n",
       " \n",
       "        [[ 521.34246826,  290.31015015]],\n",
       " \n",
       "        [[ 179.49830627,  327.98953247]],\n",
       " \n",
       "        [[ 215.16062927,  330.41525269]],\n",
       " \n",
       "        [[ 253.9937439 ,  331.99835205]],\n",
       " \n",
       "        [[ 294.08996582,  333.68685913]],\n",
       " \n",
       "        [[ 337.62469482,  336.08209229]],\n",
       " \n",
       "        [[ 381.29116821,  336.36196899]],\n",
       " \n",
       "        [[ 427.17901611,  338.79653931]],\n",
       " \n",
       "        [[ 474.79333496,  337.87908936]],\n",
       " \n",
       "        [[ 521.        ,  336.5       ]]], dtype=float32))"
      ]
     },
     "execution_count": 17,
     "metadata": {},
     "output_type": "execute_result"
    }
   ],
   "source": [
    "found, corners = cv2.findChessboardCorners(img, pattern_dimensions)\n",
    "found, corners"
   ]
  },
  {
   "cell_type": "code",
   "execution_count": 18,
   "metadata": {
    "collapsed": false
   },
   "outputs": [
    {
     "data": {
      "text/plain": [
       "(3, 30, 0.1)"
      ]
     },
     "execution_count": 18,
     "metadata": {},
     "output_type": "execute_result"
    }
   ],
   "source": [
    "term = (cv2.TERM_CRITERIA_EPS + cv2.TERM_CRITERIA_COUNT, 30, 0.1)\n",
    "term"
   ]
  },
  {
   "cell_type": "code",
   "execution_count": 19,
   "metadata": {
    "collapsed": false
   },
   "outputs": [
    {
     "data": {
      "text/plain": [
       "array([[[ 188.63247681,  130.60527039]],\n",
       "\n",
       "       [[ 223.33222961,  127.13236237]],\n",
       "\n",
       "       [[ 260.37234497,  123.67727661]],\n",
       "\n",
       "       [[ 299.38330078,  120.22773743]],\n",
       "\n",
       "       [[ 340.17657471,  117.26869965]],\n",
       "\n",
       "       [[ 382.43063354,  114.44254303]],\n",
       "\n",
       "       [[ 425.80545044,  112.21727753]],\n",
       "\n",
       "       [[ 470.26757812,  110.18011475]],\n",
       "\n",
       "       [[ 514.56829834,  109.2660675 ]],\n",
       "\n",
       "       [[ 185.58735657,  168.27801514]],\n",
       "\n",
       "       [[ 220.9039917 ,  165.82089233]],\n",
       "\n",
       "       [[ 258.50656128,  163.21696472]],\n",
       "\n",
       "       [[ 298.13021851,  160.65304565]],\n",
       "\n",
       "       [[ 339.47238159,  158.39816284]],\n",
       "\n",
       "       [[ 382.66885376,  156.33728027]],\n",
       "\n",
       "       [[ 426.99731445,  154.5401001 ]],\n",
       "\n",
       "       [[ 472.40185547,  153.27749634]],\n",
       "\n",
       "       [[ 517.55535889,  152.21005249]],\n",
       "\n",
       "       [[ 183.34185791,  207.50669861]],\n",
       "\n",
       "       [[ 218.8026886 ,  205.8354187 ]],\n",
       "\n",
       "       [[ 256.94415283,  204.28979492]],\n",
       "\n",
       "       [[ 297.1055603 ,  202.83009338]],\n",
       "\n",
       "       [[ 338.89678955,  201.51005554]],\n",
       "\n",
       "       [[ 382.74450684,  200.2252655 ]],\n",
       "\n",
       "       [[ 427.86682129,  198.93276978]],\n",
       "\n",
       "       [[ 474.00634766,  198.05677795]],\n",
       "\n",
       "       [[ 519.87011719,  197.19760132]],\n",
       "\n",
       "       [[ 181.2959137 ,  247.40460205]],\n",
       "\n",
       "       [[ 217.21081543,  246.80470276]],\n",
       "\n",
       "       [[ 255.43586731,  246.48878479]],\n",
       "\n",
       "       [[ 296.15896606,  246.08880615]],\n",
       "\n",
       "       [[ 338.54321289,  245.70918274]],\n",
       "\n",
       "       [[ 382.69598389,  245.28385925]],\n",
       "\n",
       "       [[ 428.49087524,  244.58197021]],\n",
       "\n",
       "       [[ 474.94326782,  244.18756104]],\n",
       "\n",
       "       [[ 521.34735107,  243.60813904]],\n",
       "\n",
       "       [[ 180.10920715,  287.89953613]],\n",
       "\n",
       "       [[ 216.1547699 ,  288.63198853]],\n",
       "\n",
       "       [[ 254.65328979,  289.60852051]],\n",
       "\n",
       "       [[ 295.26083374,  290.24423218]],\n",
       "\n",
       "       [[ 338.12646484,  290.71908569]],\n",
       "\n",
       "       [[ 382.5531311 ,  291.32168579]],\n",
       "\n",
       "       [[ 428.62179565,  291.47399902]],\n",
       "\n",
       "       [[ 475.35665894,  291.31488037]],\n",
       "\n",
       "       [[ 522.0458374 ,  290.88162231]],\n",
       "\n",
       "       [[ 179.37657166,  328.29364014]],\n",
       "\n",
       "       [[ 215.33207703,  330.35620117]],\n",
       "\n",
       "       [[ 253.85054016,  332.36846924]],\n",
       "\n",
       "       [[ 294.69302368,  334.2991333 ]],\n",
       "\n",
       "       [[ 337.57315063,  335.89266968]],\n",
       "\n",
       "       [[ 382.22702026,  337.23583984]],\n",
       "\n",
       "       [[ 428.23995972,  337.98782349]],\n",
       "\n",
       "       [[ 475.01791382,  338.20895386]],\n",
       "\n",
       "       [[ 521.99255371,  338.10717773]]], dtype=float32)"
      ]
     },
     "execution_count": 19,
     "metadata": {},
     "output_type": "execute_result"
    }
   ],
   "source": [
    "cv2.cornerSubPix(img, corners, (5, 5), (-1, -1), term)"
   ]
  },
  {
   "cell_type": "code",
   "execution_count": 20,
   "metadata": {
    "collapsed": false
   },
   "outputs": [
    {
     "data": {
      "text/plain": [
       "array([[[ 0,  0,  0],\n",
       "        [ 0,  0,  0],\n",
       "        [ 1,  1,  1],\n",
       "        ..., \n",
       "        [ 0,  0,  0],\n",
       "        [ 5,  5,  5],\n",
       "        [ 0,  0,  0]],\n",
       "\n",
       "       [[ 0,  0,  0],\n",
       "        [ 1,  1,  1],\n",
       "        [ 3,  3,  3],\n",
       "        ..., \n",
       "        [ 6,  6,  6],\n",
       "        [12, 12, 12],\n",
       "        [ 1,  1,  1]],\n",
       "\n",
       "       [[ 2,  2,  2],\n",
       "        [ 3,  3,  3],\n",
       "        [ 5,  5,  5],\n",
       "        ..., \n",
       "        [10, 10, 10],\n",
       "        [14, 14, 14],\n",
       "        [ 0,  0,  0]],\n",
       "\n",
       "       ..., \n",
       "       [[10, 10, 10],\n",
       "        [37, 37, 37],\n",
       "        [41, 41, 41],\n",
       "        ..., \n",
       "        [61, 61, 61],\n",
       "        [48, 48, 48],\n",
       "        [ 6,  6,  6]],\n",
       "\n",
       "       [[ 8,  8,  8],\n",
       "        [34, 34, 34],\n",
       "        [35, 35, 35],\n",
       "        ..., \n",
       "        [43, 43, 43],\n",
       "        [41, 41, 41],\n",
       "        [ 8,  8,  8]],\n",
       "\n",
       "       [[ 0,  0,  0],\n",
       "        [11, 11, 11],\n",
       "        [10, 10, 10],\n",
       "        ..., \n",
       "        [ 9,  9,  9],\n",
       "        [13, 13, 13],\n",
       "        [ 0,  0,  0]]], dtype=uint8)"
      ]
     },
     "execution_count": 20,
     "metadata": {},
     "output_type": "execute_result"
    }
   ],
   "source": [
    "vis = cv2.cvtColor(img, cv2.COLOR_GRAY2BGR) # debug\n",
    "cv2.drawChessboardCorners(vis, pattern_dimensions, corners, found)\n",
    "vis"
   ]
  },
  {
   "cell_type": "code",
   "execution_count": 21,
   "metadata": {
    "collapsed": false
   },
   "outputs": [
    {
     "data": {
      "text/plain": [
       "32"
      ]
     },
     "execution_count": 21,
     "metadata": {},
     "output_type": "execute_result"
    }
   ],
   "source": [
    "#cv2.imshow('color', vis)\n",
    "#cv2.waitKey(0)"
   ]
  },
  {
   "cell_type": "code",
   "execution_count": 22,
   "metadata": {
    "collapsed": false
   },
   "outputs": [
    {
     "ename": "error",
     "evalue": "/home/jsk/GitHub/opencv/modules/calib3d/src/calibration.cpp:3306: error: (-215) nimages > 0 in function calibrateCamera\n",
     "output_type": "error",
     "traceback": [
      "\u001b[1;31m---------------------------------------------------------------------------\u001b[0m",
      "\u001b[1;31merror\u001b[0m                                     Traceback (most recent call last)",
      "\u001b[1;32m<ipython-input-22-8439cb123903>\u001b[0m in \u001b[0;36m<module>\u001b[1;34m()\u001b[0m\n\u001b[1;32m----> 1\u001b[1;33m \u001b[0mrms\u001b[0m\u001b[1;33m,\u001b[0m \u001b[0mcamera_matrix\u001b[0m\u001b[1;33m,\u001b[0m \u001b[0mdist_coefs\u001b[0m\u001b[1;33m,\u001b[0m \u001b[0mrvecs\u001b[0m\u001b[1;33m,\u001b[0m \u001b[0mtvecs\u001b[0m \u001b[1;33m=\u001b[0m \u001b[0mcv2\u001b[0m\u001b[1;33m.\u001b[0m\u001b[0mcalibrateCamera\u001b[0m\u001b[1;33m(\u001b[0m\u001b[0mobj_points\u001b[0m\u001b[1;33m,\u001b[0m \u001b[0mimg_points\u001b[0m\u001b[1;33m,\u001b[0m \u001b[1;33m(\u001b[0m\u001b[0mw\u001b[0m\u001b[1;33m,\u001b[0m \u001b[0mh\u001b[0m\u001b[1;33m)\u001b[0m\u001b[1;33m,\u001b[0m \u001b[1;32mNone\u001b[0m\u001b[1;33m,\u001b[0m \u001b[1;32mNone\u001b[0m\u001b[1;33m)\u001b[0m\u001b[1;33m\u001b[0m\u001b[0m\n\u001b[0m\u001b[0;32m      2\u001b[0m \u001b[0mrms\u001b[0m\u001b[1;33m,\u001b[0m \u001b[0mcamera_matrix\u001b[0m\u001b[1;33m,\u001b[0m \u001b[0mdist_coefs\u001b[0m\u001b[1;33m,\u001b[0m \u001b[0mrvecs\u001b[0m\u001b[1;33m,\u001b[0m \u001b[0mtvecs\u001b[0m\u001b[1;33m\u001b[0m\u001b[0m\n",
      "\u001b[1;31merror\u001b[0m: /home/jsk/GitHub/opencv/modules/calib3d/src/calibration.cpp:3306: error: (-215) nimages > 0 in function calibrateCamera\n"
     ]
    }
   ],
   "source": [
    "rms, camera_matrix, dist_coefs, rvecs, tvecs = cv2.calibrateCamera(obj_points, img_points, (w, h), None, None)\n",
    "rms, camera_matrix, dist_coefs, rvecs, tvecs"
   ]
  },
  {
   "cell_type": "code",
   "execution_count": null,
   "metadata": {
    "collapsed": true
   },
   "outputs": [],
   "source": []
  }
 ],
 "metadata": {
  "kernelspec": {
   "display_name": "Python 3",
   "language": "python",
   "name": "python3"
  },
  "language_info": {
   "codemirror_mode": {
    "name": "ipython",
    "version": 3
   },
   "file_extension": ".py",
   "mimetype": "text/x-python",
   "name": "python",
   "nbconvert_exporter": "python",
   "pygments_lexer": "ipython3",
   "version": "3.5.1"
  }
 },
 "nbformat": 4,
 "nbformat_minor": 0
}
