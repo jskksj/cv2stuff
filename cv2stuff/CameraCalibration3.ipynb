{
 "cells": [
  {
   "cell_type": "code",
   "execution_count": 4,
   "metadata": {
    "collapsed": true
   },
   "outputs": [],
   "source": [
    "from pathlib import Path\n",
    "import cv2\n",
    "import numpy as np"
   ]
  },
  {
   "cell_type": "code",
   "execution_count": 5,
   "metadata": {
    "collapsed": false
   },
   "outputs": [
    {
     "data": {
      "text/plain": [
       "PosixPath('/home/jsk/GitHub/cv2stuff/cv2stuff/tests/images/left12.jpg')"
      ]
     },
     "execution_count": 5,
     "metadata": {},
     "output_type": "execute_result"
    }
   ],
   "source": [
    "calibration_images_path = Path.cwd() / Path('tests') / Path('images')\n",
    "calibration_images = tuple(calibration_images_path.glob('left*'))\n",
    "calibration_images[5]"
   ]
  },
  {
   "cell_type": "code",
   "execution_count": 6,
   "metadata": {
    "collapsed": false
   },
   "outputs": [
    {
     "data": {
      "text/plain": [
       "(3, 30, 0.001)"
      ]
     },
     "execution_count": 6,
     "metadata": {},
     "output_type": "execute_result"
    }
   ],
   "source": [
    "criteria = (cv2.TERM_CRITERIA_EPS + cv2.TERM_CRITERIA_MAX_ITER, 30, 0.001)\n",
    "criteria"
   ]
  },
  {
   "cell_type": "code",
   "execution_count": 7,
   "metadata": {
    "collapsed": true
   },
   "outputs": [],
   "source": [
    "pattern_dimensions = (9, 6) # The inner corners of the sample chessboard image.\n",
    "dimensions_product = pattern_dimensions[0] * pattern_dimensions[1]"
   ]
  },
  {
   "cell_type": "code",
   "execution_count": 8,
   "metadata": {
    "collapsed": false
   },
   "outputs": [],
   "source": [
    "objp = np.zeros((dimensions_product,3), np.float32) # empty array\n",
    "objp[:,:2] = np.mgrid[0:pattern_dimensions[0],0:pattern_dimensions[1]].T.reshape(-1,2) # index the array"
   ]
  },
  {
   "cell_type": "code",
   "execution_count": 9,
   "metadata": {
    "collapsed": true
   },
   "outputs": [],
   "source": [
    "# Arrays to store object points and image points from all the images.\n",
    "objpoints = [] # 3d point in real world space\n",
    "imgpoints = [] # 2d points in image plane."
   ]
  },
  {
   "cell_type": "code",
   "execution_count": 10,
   "metadata": {
    "collapsed": true
   },
   "outputs": [],
   "source": [
    "fname = str(calibration_images[0])"
   ]
  },
  {
   "cell_type": "code",
   "execution_count": 11,
   "metadata": {
    "collapsed": true
   },
   "outputs": [],
   "source": [
    "img = cv2.imread(fname)\n",
    "gray = cv2.cvtColor(img,cv2.COLOR_BGR2GRAY)"
   ]
  },
  {
   "cell_type": "code",
   "execution_count": 12,
   "metadata": {
    "collapsed": false
   },
   "outputs": [
    {
     "data": {
      "text/plain": [
       "True"
      ]
     },
     "execution_count": 12,
     "metadata": {},
     "output_type": "execute_result"
    }
   ],
   "source": [
    "ret, corners = cv2.findChessboardCorners(gray, pattern_dimensions, None)\n",
    "ret"
   ]
  },
  {
   "cell_type": "code",
   "execution_count": 13,
   "metadata": {
    "collapsed": true
   },
   "outputs": [],
   "source": [
    "objpoints.append(objp)"
   ]
  },
  {
   "cell_type": "code",
   "execution_count": 14,
   "metadata": {
    "collapsed": false
   },
   "outputs": [
    {
     "data": {
      "text/plain": [
       "array([[[ 188.52177429,  130.59634399]],\n",
       "\n",
       "       [[ 223.25431824,  127.10599518]],\n",
       "\n",
       "       [[ 260.33712769,  123.72382355]],\n",
       "\n",
       "       [[ 299.31347656,  120.21031189]],\n",
       "\n",
       "       [[ 340.14273071,  117.28233337]],\n",
       "\n",
       "       [[ 382.4118042 ,  114.39073181]],\n",
       "\n",
       "       [[ 425.84460449,  112.19089508]],\n",
       "\n",
       "       [[ 470.29394531,  110.21006012]],\n",
       "\n",
       "       [[ 514.56268311,  109.15750885]],\n",
       "\n",
       "       [[ 185.58255005,  168.31446838]],\n",
       "\n",
       "       [[ 220.92555237,  165.8598175 ]],\n",
       "\n",
       "       [[ 258.52218628,  163.19372559]],\n",
       "\n",
       "       [[ 298.12036133,  160.62052917]],\n",
       "\n",
       "       [[ 339.50344849,  158.407547  ]],\n",
       "\n",
       "       [[ 382.67443848,  156.35827637]],\n",
       "\n",
       "       [[ 427.01651001,  154.53375244]],\n",
       "\n",
       "       [[ 472.39154053,  153.32444763]],\n",
       "\n",
       "       [[ 517.5065918 ,  152.16775513]],\n",
       "\n",
       "       [[ 183.30487061,  207.50357056]],\n",
       "\n",
       "       [[ 218.83789062,  205.89527893]],\n",
       "\n",
       "       [[ 256.93572998,  204.27267456]],\n",
       "\n",
       "       [[ 297.06646729,  202.78793335]],\n",
       "\n",
       "       [[ 338.93032837,  201.50622559]],\n",
       "\n",
       "       [[ 382.76010132,  200.21937561]],\n",
       "\n",
       "       [[ 427.89138794,  198.93937683]],\n",
       "\n",
       "       [[ 473.99191284,  198.02433777]],\n",
       "\n",
       "       [[ 519.85980225,  197.20404053]],\n",
       "\n",
       "       [[ 181.26213074,  247.42747498]],\n",
       "\n",
       "       [[ 217.25881958,  246.82684326]],\n",
       "\n",
       "       [[ 255.44541931,  246.43453979]],\n",
       "\n",
       "       [[ 296.09606934,  246.13150024]],\n",
       "\n",
       "       [[ 338.5473938 ,  245.72779846]],\n",
       "\n",
       "       [[ 382.71530151,  245.33480835]],\n",
       "\n",
       "       [[ 428.47393799,  244.55361938]],\n",
       "\n",
       "       [[ 474.92776489,  244.14186096]],\n",
       "\n",
       "       [[ 521.37896729,  243.59623718]],\n",
       "\n",
       "       [[ 180.17417908,  287.82043457]],\n",
       "\n",
       "       [[ 216.08049011,  288.64846802]],\n",
       "\n",
       "       [[ 254.62249756,  289.65133667]],\n",
       "\n",
       "       [[ 295.24978638,  290.25952148]],\n",
       "\n",
       "       [[ 338.12576294,  290.76867676]],\n",
       "\n",
       "       [[ 382.58822632,  291.28787231]],\n",
       "\n",
       "       [[ 428.59713745,  291.46121216]],\n",
       "\n",
       "       [[ 475.36434937,  291.32507324]],\n",
       "\n",
       "       [[ 522.19470215,  290.9095459 ]],\n",
       "\n",
       "       [[ 179.37013245,  328.19570923]],\n",
       "\n",
       "       [[ 215.2668457 ,  330.42019653]],\n",
       "\n",
       "       [[ 253.87794495,  332.3420105 ]],\n",
       "\n",
       "       [[ 294.73471069,  334.31121826]],\n",
       "\n",
       "       [[ 337.52719116,  335.89337158]],\n",
       "\n",
       "       [[ 382.26403809,  337.24456787]],\n",
       "\n",
       "       [[ 428.28598022,  337.89816284]],\n",
       "\n",
       "       [[ 475.0987854 ,  338.22195435]],\n",
       "\n",
       "       [[ 522.0512085 ,  338.12982178]]], dtype=float32)"
      ]
     },
     "execution_count": 14,
     "metadata": {},
     "output_type": "execute_result"
    }
   ],
   "source": [
    "cv2.cornerSubPix(gray, corners,(11,11), (-1,-1), criteria)"
   ]
  },
  {
   "cell_type": "code",
   "execution_count": 15,
   "metadata": {
    "collapsed": true
   },
   "outputs": [],
   "source": [
    "imgpoints.append(corners)"
   ]
  },
  {
   "cell_type": "code",
   "execution_count": 16,
   "metadata": {
    "collapsed": false
   },
   "outputs": [
    {
     "data": {
      "text/plain": [
       "array([[[ 0,  0,  0],\n",
       "        [ 0,  0,  0],\n",
       "        [ 1,  1,  1],\n",
       "        ..., \n",
       "        [ 0,  0,  0],\n",
       "        [ 5,  5,  5],\n",
       "        [ 0,  0,  0]],\n",
       "\n",
       "       [[ 0,  0,  0],\n",
       "        [ 1,  1,  1],\n",
       "        [ 3,  3,  3],\n",
       "        ..., \n",
       "        [ 6,  6,  6],\n",
       "        [12, 12, 12],\n",
       "        [ 1,  1,  1]],\n",
       "\n",
       "       [[ 2,  2,  2],\n",
       "        [ 3,  3,  3],\n",
       "        [ 5,  5,  5],\n",
       "        ..., \n",
       "        [10, 10, 10],\n",
       "        [14, 14, 14],\n",
       "        [ 0,  0,  0]],\n",
       "\n",
       "       ..., \n",
       "       [[10, 10, 10],\n",
       "        [37, 37, 37],\n",
       "        [41, 41, 41],\n",
       "        ..., \n",
       "        [61, 61, 61],\n",
       "        [48, 48, 48],\n",
       "        [ 6,  6,  6]],\n",
       "\n",
       "       [[ 8,  8,  8],\n",
       "        [34, 34, 34],\n",
       "        [35, 35, 35],\n",
       "        ..., \n",
       "        [43, 43, 43],\n",
       "        [41, 41, 41],\n",
       "        [ 8,  8,  8]],\n",
       "\n",
       "       [[ 0,  0,  0],\n",
       "        [11, 11, 11],\n",
       "        [10, 10, 10],\n",
       "        ..., \n",
       "        [ 9,  9,  9],\n",
       "        [13, 13, 13],\n",
       "        [ 0,  0,  0]]], dtype=uint8)"
      ]
     },
     "execution_count": 16,
     "metadata": {},
     "output_type": "execute_result"
    }
   ],
   "source": [
    "cv2.drawChessboardCorners(img, pattern_dimensions, corners, ret)"
   ]
  },
  {
   "cell_type": "code",
   "execution_count": 17,
   "metadata": {
    "collapsed": true
   },
   "outputs": [],
   "source": [
    "cv2.imshow('img',img)\n",
    "cv2.waitKey(500)\n",
    "cv2.destroyAllWindows()"
   ]
  },
  {
   "cell_type": "code",
   "execution_count": 18,
   "metadata": {
    "collapsed": true
   },
   "outputs": [],
   "source": [
    "ret, mtx, dist, rvecs, tvecs = cv2.calibrateCamera(objpoints, imgpoints, gray.shape[::-1],None,None)"
   ]
  },
  {
   "cell_type": "code",
   "execution_count": 19,
   "metadata": {
    "collapsed": false
   },
   "outputs": [],
   "source": [
    "fname = str(calibration_images[5])"
   ]
  },
  {
   "cell_type": "code",
   "execution_count": 20,
   "metadata": {
    "collapsed": true
   },
   "outputs": [],
   "source": [
    "img = cv2.imread(fname)"
   ]
  },
  {
   "cell_type": "code",
   "execution_count": 21,
   "metadata": {
    "collapsed": true
   },
   "outputs": [],
   "source": [
    "h,  w = img.shape[:2]"
   ]
  },
  {
   "cell_type": "code",
   "execution_count": 22,
   "metadata": {
    "collapsed": false
   },
   "outputs": [
    {
     "data": {
      "text/plain": [
       "(array([[ 146.21296692,    0.        ,  492.43311094],\n",
       "        [   0.        ,  133.51545715,  397.62325063],\n",
       "        [   0.        ,    0.        ,    1.        ]]), (0, 0, 0, 0))"
      ]
     },
     "execution_count": 22,
     "metadata": {},
     "output_type": "execute_result"
    }
   ],
   "source": [
    "newcameramtx, roi=cv2.getOptimalNewCameraMatrix(mtx,dist,(w,h),1,(w,h))\n",
    "newcameramtx, roi"
   ]
  },
  {
   "cell_type": "code",
   "execution_count": 23,
   "metadata": {
    "collapsed": true
   },
   "outputs": [],
   "source": [
    "# undistort\n",
    "dst = cv2.undistort(img, mtx, dist, None, newcameramtx)"
   ]
  },
  {
   "cell_type": "code",
   "execution_count": 24,
   "metadata": {
    "collapsed": false
   },
   "outputs": [
    {
     "data": {
      "text/plain": [
       "((0, 0, 0, 0),\n",
       " array([], shape=(0, 0, 3), dtype=uint8),\n",
       " '/home/jsk/GitHub/cv2stuff/cv2stuff/tests/images/calibresult.png')"
      ]
     },
     "execution_count": 24,
     "metadata": {},
     "output_type": "execute_result"
    }
   ],
   "source": [
    "# crop the image\n",
    "x,y,w,h = roi\n",
    "dst = dst[y:y+h, x:x+w]\n",
    "cal_image = str(calibration_images_path) + '/' + 'calibresult.png'\n",
    "written = cv2.imwrite(cal_image, dst)\n",
    "roi, dst, cal_image"
   ]
  },
  {
   "cell_type": "code",
   "execution_count": 25,
   "metadata": {
    "collapsed": false
   },
   "outputs": [
    {
     "data": {
      "text/plain": [
       "(None, None)"
      ]
     },
     "execution_count": 25,
     "metadata": {},
     "output_type": "execute_result"
    }
   ],
   "source": [
    "# undistort\n",
    "mapx,mapy = cv2.initUndistortRectifyMap(mtx, dist, None, newcameramtx, (w,h), 5)\n",
    "mapx, mapy"
   ]
  },
  {
   "cell_type": "code",
   "execution_count": 26,
   "metadata": {
    "collapsed": false
   },
   "outputs": [
    {
     "ename": "error",
     "evalue": "/home/jsk/GitHub/opencv/modules/imgproc/src/imgwarp.cpp:4672: error: (-215) _map1.size().area() > 0 in function remap\n",
     "output_type": "error",
     "traceback": [
      "\u001b[1;31m---------------------------------------------------------------------------\u001b[0m",
      "\u001b[1;31merror\u001b[0m                                     Traceback (most recent call last)",
      "\u001b[1;32m<ipython-input-26-9c5893750c88>\u001b[0m in \u001b[0;36m<module>\u001b[1;34m()\u001b[0m\n\u001b[1;32m----> 1\u001b[1;33m \u001b[0mdst\u001b[0m \u001b[1;33m=\u001b[0m \u001b[0mcv2\u001b[0m\u001b[1;33m.\u001b[0m\u001b[0mremap\u001b[0m\u001b[1;33m(\u001b[0m\u001b[0mimg\u001b[0m\u001b[1;33m,\u001b[0m\u001b[0mmapx\u001b[0m\u001b[1;33m,\u001b[0m\u001b[0mmapy\u001b[0m\u001b[1;33m,\u001b[0m\u001b[0mcv2\u001b[0m\u001b[1;33m.\u001b[0m\u001b[0mINTER_LINEAR\u001b[0m\u001b[1;33m)\u001b[0m\u001b[1;33m\u001b[0m\u001b[0m\n\u001b[0m",
      "\u001b[1;31merror\u001b[0m: /home/jsk/GitHub/opencv/modules/imgproc/src/imgwarp.cpp:4672: error: (-215) _map1.size().area() > 0 in function remap\n"
     ]
    }
   ],
   "source": [
    "dst = cv2.remap(img,mapx,mapy,cv2.INTER_LINEAR)"
   ]
  }
 ],
 "metadata": {
  "kernelspec": {
   "display_name": "Python 3",
   "language": "python",
   "name": "python3"
  },
  "language_info": {
   "codemirror_mode": {
    "name": "ipython",
    "version": 3
   },
   "file_extension": ".py",
   "mimetype": "text/x-python",
   "name": "python",
   "nbconvert_exporter": "python",
   "pygments_lexer": "ipython3",
   "version": "3.5.1"
  }
 },
 "nbformat": 4,
 "nbformat_minor": 0
}
