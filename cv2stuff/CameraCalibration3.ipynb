{
 "cells": [
  {
   "cell_type": "code",
   "execution_count": 3,
   "metadata": {
    "collapsed": true
   },
   "outputs": [],
   "source": [
    "from pathlib import Path\n",
    "import cv2\n",
    "import numpy as np"
   ]
  },
  {
   "cell_type": "code",
   "execution_count": 4,
   "metadata": {
    "collapsed": false
   },
   "outputs": [
    {
     "data": {
      "text/plain": [
       "PosixPath('/home/jsk/GitHub/cv2stuff/cv2stuff/tests/images/left12.jpg')"
      ]
     },
     "execution_count": 4,
     "metadata": {},
     "output_type": "execute_result"
    }
   ],
   "source": [
    "calibration_images_path = Path.cwd() / Path('tests') / Path('images')\n",
    "calibration_images = tuple(calibration_images_path.glob('left*'))\n",
    "calibration_images[5]"
   ]
  },
  {
   "cell_type": "code",
   "execution_count": 5,
   "metadata": {
    "collapsed": false
   },
   "outputs": [
    {
     "data": {
      "text/plain": [
       "(3, 30, 0.001)"
      ]
     },
     "execution_count": 5,
     "metadata": {},
     "output_type": "execute_result"
    }
   ],
   "source": [
    "criteria = (cv2.TERM_CRITERIA_EPS + cv2.TERM_CRITERIA_MAX_ITER, 30, 0.001)\n",
    "criteria"
   ]
  },
  {
   "cell_type": "code",
   "execution_count": 6,
   "metadata": {
    "collapsed": true
   },
   "outputs": [],
   "source": [
    "pattern_dimensions = (9, 6) # The inner corners of the sample chessboard image.\n",
    "dimensions_product = pattern_dimensions[0] * pattern_dimensions[1]"
   ]
  },
  {
   "cell_type": "code",
   "execution_count": 7,
   "metadata": {
    "collapsed": false
   },
   "outputs": [],
   "source": [
    "objp = np.zeros((dimensions_product,3), np.float32) # empty array\n",
    "objp[:,:2] = np.mgrid[0:pattern_dimensions[0],0:pattern_dimensions[1]].T.reshape(-1,2) # index the array"
   ]
  },
  {
   "cell_type": "code",
   "execution_count": 8,
   "metadata": {
    "collapsed": true
   },
   "outputs": [],
   "source": [
    "# Arrays to store object points and image points from all the images.\n",
    "objpoints = [] # 3d point in real world space\n",
    "imgpoints = [] # 2d points in image plane."
   ]
  },
  {
   "cell_type": "code",
   "execution_count": 9,
   "metadata": {
    "collapsed": true
   },
   "outputs": [],
   "source": [
    "fname = str(calibration_images[0])"
   ]
  },
  {
   "cell_type": "code",
   "execution_count": 10,
   "metadata": {
    "collapsed": true
   },
   "outputs": [],
   "source": [
    "img = cv2.imread(fname)\n",
    "gray = cv2.cvtColor(img,cv2.COLOR_BGR2GRAY)"
   ]
  },
  {
   "cell_type": "code",
   "execution_count": 11,
   "metadata": {
    "collapsed": false
   },
   "outputs": [
    {
     "data": {
      "text/plain": [
       "True"
      ]
     },
     "execution_count": 11,
     "metadata": {},
     "output_type": "execute_result"
    }
   ],
   "source": [
    "ret, corners = cv2.findChessboardCorners(gray, pattern_dimensions, None)\n",
    "ret"
   ]
  },
  {
   "cell_type": "code",
   "execution_count": 12,
   "metadata": {
    "collapsed": false
   },
   "outputs": [
    {
     "data": {
      "text/plain": [
       "[array([[ 0.,  0.,  0.],\n",
       "        [ 1.,  0.,  0.],\n",
       "        [ 2.,  0.,  0.],\n",
       "        [ 3.,  0.,  0.],\n",
       "        [ 4.,  0.,  0.],\n",
       "        [ 5.,  0.,  0.],\n",
       "        [ 6.,  0.,  0.],\n",
       "        [ 7.,  0.,  0.],\n",
       "        [ 8.,  0.,  0.],\n",
       "        [ 0.,  1.,  0.],\n",
       "        [ 1.,  1.,  0.],\n",
       "        [ 2.,  1.,  0.],\n",
       "        [ 3.,  1.,  0.],\n",
       "        [ 4.,  1.,  0.],\n",
       "        [ 5.,  1.,  0.],\n",
       "        [ 6.,  1.,  0.],\n",
       "        [ 7.,  1.,  0.],\n",
       "        [ 8.,  1.,  0.],\n",
       "        [ 0.,  2.,  0.],\n",
       "        [ 1.,  2.,  0.],\n",
       "        [ 2.,  2.,  0.],\n",
       "        [ 3.,  2.,  0.],\n",
       "        [ 4.,  2.,  0.],\n",
       "        [ 5.,  2.,  0.],\n",
       "        [ 6.,  2.,  0.],\n",
       "        [ 7.,  2.,  0.],\n",
       "        [ 8.,  2.,  0.],\n",
       "        [ 0.,  3.,  0.],\n",
       "        [ 1.,  3.,  0.],\n",
       "        [ 2.,  3.,  0.],\n",
       "        [ 3.,  3.,  0.],\n",
       "        [ 4.,  3.,  0.],\n",
       "        [ 5.,  3.,  0.],\n",
       "        [ 6.,  3.,  0.],\n",
       "        [ 7.,  3.,  0.],\n",
       "        [ 8.,  3.,  0.],\n",
       "        [ 0.,  4.,  0.],\n",
       "        [ 1.,  4.,  0.],\n",
       "        [ 2.,  4.,  0.],\n",
       "        [ 3.,  4.,  0.],\n",
       "        [ 4.,  4.,  0.],\n",
       "        [ 5.,  4.,  0.],\n",
       "        [ 6.,  4.,  0.],\n",
       "        [ 7.,  4.,  0.],\n",
       "        [ 8.,  4.,  0.],\n",
       "        [ 0.,  5.,  0.],\n",
       "        [ 1.,  5.,  0.],\n",
       "        [ 2.,  5.,  0.],\n",
       "        [ 3.,  5.,  0.],\n",
       "        [ 4.,  5.,  0.],\n",
       "        [ 5.,  5.,  0.],\n",
       "        [ 6.,  5.,  0.],\n",
       "        [ 7.,  5.,  0.],\n",
       "        [ 8.,  5.,  0.]], dtype=float32)]"
      ]
     },
     "execution_count": 12,
     "metadata": {},
     "output_type": "execute_result"
    }
   ],
   "source": [
    "objpoints.append(objp)\n",
    "objpoints"
   ]
  },
  {
   "cell_type": "code",
   "execution_count": 13,
   "metadata": {
    "collapsed": false
   },
   "outputs": [
    {
     "data": {
      "text/plain": [
       "array([[[ 188.52177429,  130.59634399]],\n",
       "\n",
       "       [[ 223.25431824,  127.10599518]],\n",
       "\n",
       "       [[ 260.33712769,  123.72382355]],\n",
       "\n",
       "       [[ 299.31347656,  120.21031189]],\n",
       "\n",
       "       [[ 340.14273071,  117.28233337]],\n",
       "\n",
       "       [[ 382.4118042 ,  114.39073181]],\n",
       "\n",
       "       [[ 425.84460449,  112.19089508]],\n",
       "\n",
       "       [[ 470.29394531,  110.21006012]],\n",
       "\n",
       "       [[ 514.56268311,  109.15750885]],\n",
       "\n",
       "       [[ 185.58255005,  168.31446838]],\n",
       "\n",
       "       [[ 220.92555237,  165.8598175 ]],\n",
       "\n",
       "       [[ 258.52218628,  163.19372559]],\n",
       "\n",
       "       [[ 298.12036133,  160.62052917]],\n",
       "\n",
       "       [[ 339.50344849,  158.407547  ]],\n",
       "\n",
       "       [[ 382.67443848,  156.35827637]],\n",
       "\n",
       "       [[ 427.01651001,  154.53375244]],\n",
       "\n",
       "       [[ 472.39154053,  153.32444763]],\n",
       "\n",
       "       [[ 517.5065918 ,  152.16775513]],\n",
       "\n",
       "       [[ 183.30487061,  207.50357056]],\n",
       "\n",
       "       [[ 218.83789062,  205.89527893]],\n",
       "\n",
       "       [[ 256.93572998,  204.27267456]],\n",
       "\n",
       "       [[ 297.06646729,  202.78793335]],\n",
       "\n",
       "       [[ 338.93032837,  201.50622559]],\n",
       "\n",
       "       [[ 382.76010132,  200.21937561]],\n",
       "\n",
       "       [[ 427.89138794,  198.93937683]],\n",
       "\n",
       "       [[ 473.99191284,  198.02433777]],\n",
       "\n",
       "       [[ 519.85980225,  197.20404053]],\n",
       "\n",
       "       [[ 181.26213074,  247.42747498]],\n",
       "\n",
       "       [[ 217.25881958,  246.82684326]],\n",
       "\n",
       "       [[ 255.44541931,  246.43453979]],\n",
       "\n",
       "       [[ 296.09606934,  246.13150024]],\n",
       "\n",
       "       [[ 338.5473938 ,  245.72779846]],\n",
       "\n",
       "       [[ 382.71530151,  245.33480835]],\n",
       "\n",
       "       [[ 428.47393799,  244.55361938]],\n",
       "\n",
       "       [[ 474.92776489,  244.14186096]],\n",
       "\n",
       "       [[ 521.37896729,  243.59623718]],\n",
       "\n",
       "       [[ 180.17417908,  287.82043457]],\n",
       "\n",
       "       [[ 216.08049011,  288.64846802]],\n",
       "\n",
       "       [[ 254.62249756,  289.65133667]],\n",
       "\n",
       "       [[ 295.24978638,  290.25952148]],\n",
       "\n",
       "       [[ 338.12576294,  290.76867676]],\n",
       "\n",
       "       [[ 382.58822632,  291.28787231]],\n",
       "\n",
       "       [[ 428.59713745,  291.46121216]],\n",
       "\n",
       "       [[ 475.36434937,  291.32507324]],\n",
       "\n",
       "       [[ 522.19470215,  290.9095459 ]],\n",
       "\n",
       "       [[ 179.37013245,  328.19570923]],\n",
       "\n",
       "       [[ 215.2668457 ,  330.42019653]],\n",
       "\n",
       "       [[ 253.87794495,  332.3420105 ]],\n",
       "\n",
       "       [[ 294.73471069,  334.31121826]],\n",
       "\n",
       "       [[ 337.52719116,  335.89337158]],\n",
       "\n",
       "       [[ 382.26403809,  337.24456787]],\n",
       "\n",
       "       [[ 428.28598022,  337.89816284]],\n",
       "\n",
       "       [[ 475.0987854 ,  338.22195435]],\n",
       "\n",
       "       [[ 522.0512085 ,  338.12982178]]], dtype=float32)"
      ]
     },
     "execution_count": 13,
     "metadata": {},
     "output_type": "execute_result"
    }
   ],
   "source": [
    "cv2.cornerSubPix(gray, corners,(11,11), (-1,-1), criteria)"
   ]
  },
  {
   "cell_type": "code",
   "execution_count": 14,
   "metadata": {
    "collapsed": true
   },
   "outputs": [],
   "source": [
    "imgpoints.append(corners)"
   ]
  },
  {
   "cell_type": "code",
   "execution_count": 15,
   "metadata": {
    "collapsed": false
   },
   "outputs": [
    {
     "data": {
      "text/plain": [
       "array([[[ 0,  0,  0],\n",
       "        [ 0,  0,  0],\n",
       "        [ 1,  1,  1],\n",
       "        ..., \n",
       "        [ 0,  0,  0],\n",
       "        [ 5,  5,  5],\n",
       "        [ 0,  0,  0]],\n",
       "\n",
       "       [[ 0,  0,  0],\n",
       "        [ 1,  1,  1],\n",
       "        [ 3,  3,  3],\n",
       "        ..., \n",
       "        [ 6,  6,  6],\n",
       "        [12, 12, 12],\n",
       "        [ 1,  1,  1]],\n",
       "\n",
       "       [[ 2,  2,  2],\n",
       "        [ 3,  3,  3],\n",
       "        [ 5,  5,  5],\n",
       "        ..., \n",
       "        [10, 10, 10],\n",
       "        [14, 14, 14],\n",
       "        [ 0,  0,  0]],\n",
       "\n",
       "       ..., \n",
       "       [[10, 10, 10],\n",
       "        [37, 37, 37],\n",
       "        [41, 41, 41],\n",
       "        ..., \n",
       "        [61, 61, 61],\n",
       "        [48, 48, 48],\n",
       "        [ 6,  6,  6]],\n",
       "\n",
       "       [[ 8,  8,  8],\n",
       "        [34, 34, 34],\n",
       "        [35, 35, 35],\n",
       "        ..., \n",
       "        [43, 43, 43],\n",
       "        [41, 41, 41],\n",
       "        [ 8,  8,  8]],\n",
       "\n",
       "       [[ 0,  0,  0],\n",
       "        [11, 11, 11],\n",
       "        [10, 10, 10],\n",
       "        ..., \n",
       "        [ 9,  9,  9],\n",
       "        [13, 13, 13],\n",
       "        [ 0,  0,  0]]], dtype=uint8)"
      ]
     },
     "execution_count": 15,
     "metadata": {},
     "output_type": "execute_result"
    }
   ],
   "source": [
    "cv2.drawChessboardCorners(img, pattern_dimensions, corners, ret)"
   ]
  },
  {
   "cell_type": "code",
   "execution_count": 16,
   "metadata": {
    "collapsed": true
   },
   "outputs": [],
   "source": [
    "cv2.imshow('img', img)\n",
    "cv2.waitKey(500)\n",
    "cv2.destroyAllWindows()"
   ]
  },
  {
   "cell_type": "code",
   "execution_count": 17,
   "metadata": {
    "collapsed": true
   },
   "outputs": [],
   "source": [
    "ret, mtx, dist, rvecs, tvecs = cv2.calibrateCamera(objpoints, imgpoints, gray.shape[::-1], None, None)"
   ]
  },
  {
   "cell_type": "code",
   "execution_count": 18,
   "metadata": {
    "collapsed": false
   },
   "outputs": [],
   "source": [
    "fname = str(calibration_images[5])"
   ]
  },
  {
   "cell_type": "code",
   "execution_count": 19,
   "metadata": {
    "collapsed": true
   },
   "outputs": [],
   "source": [
    "img = cv2.imread(fname)"
   ]
  },
  {
   "cell_type": "code",
   "execution_count": 20,
   "metadata": {
    "collapsed": false
   },
   "outputs": [
    {
     "data": {
      "text/plain": [
       "(480, 640)"
      ]
     },
     "execution_count": 20,
     "metadata": {},
     "output_type": "execute_result"
    }
   ],
   "source": [
    "h, w = img.shape[:2]\n",
    "h, w"
   ]
  },
  {
   "cell_type": "code",
   "execution_count": 21,
   "metadata": {
    "collapsed": false
   },
   "outputs": [
    {
     "data": {
      "text/plain": [
       "(0, 0, 0, 0)"
      ]
     },
     "execution_count": 21,
     "metadata": {},
     "output_type": "execute_result"
    }
   ],
   "source": [
    "newcameramtx, roi = cv2.getOptimalNewCameraMatrix(mtx, dist, (w, h), 1, (w, h))\n",
    "#newcameramtx, roi\n",
    "roi"
   ]
  },
  {
   "cell_type": "code",
   "execution_count": 22,
   "metadata": {
    "collapsed": false
   },
   "outputs": [
    {
     "data": {
      "text/plain": [
       "array([[[ 0,  0,  0],\n",
       "        [ 0,  0,  0],\n",
       "        [ 0,  0,  0],\n",
       "        ..., \n",
       "        [ 0,  0,  0],\n",
       "        [ 0,  0,  0],\n",
       "        [ 0,  0,  0]],\n",
       "\n",
       "       [[ 0,  0,  0],\n",
       "        [ 0,  0,  0],\n",
       "        [ 0,  0,  0],\n",
       "        ..., \n",
       "        [ 0,  0,  0],\n",
       "        [ 0,  0,  0],\n",
       "        [ 0,  0,  0]],\n",
       "\n",
       "       [[ 0,  0,  0],\n",
       "        [ 0,  0,  0],\n",
       "        [ 0,  0,  0],\n",
       "        ..., \n",
       "        [ 0,  0,  0],\n",
       "        [ 0,  0,  0],\n",
       "        [ 0,  0,  0]],\n",
       "\n",
       "       ..., \n",
       "       [[ 0,  0,  0],\n",
       "        [ 0,  0,  0],\n",
       "        [ 0,  0,  0],\n",
       "        ..., \n",
       "        [91, 91, 91],\n",
       "        [91, 91, 91],\n",
       "        [91, 91, 91]],\n",
       "\n",
       "       [[ 0,  0,  0],\n",
       "        [ 0,  0,  0],\n",
       "        [ 0,  0,  0],\n",
       "        ..., \n",
       "        [94, 94, 94],\n",
       "        [93, 93, 93],\n",
       "        [87, 87, 87]],\n",
       "\n",
       "       [[ 0,  0,  0],\n",
       "        [ 0,  0,  0],\n",
       "        [ 0,  0,  0],\n",
       "        ..., \n",
       "        [93, 93, 93],\n",
       "        [88, 88, 88],\n",
       "        [79, 79, 79]]], dtype=uint8)"
      ]
     },
     "execution_count": 22,
     "metadata": {},
     "output_type": "execute_result"
    }
   ],
   "source": [
    "# undistort\n",
    "dst = cv2.undistort(img, mtx, dist, None, newcameramtx)\n",
    "dst"
   ]
  },
  {
   "cell_type": "code",
   "execution_count": 23,
   "metadata": {
    "collapsed": false
   },
   "outputs": [
    {
     "data": {
      "text/plain": [
       "((0, 0, 0, 0), array([[[ 0,  0,  0],\n",
       "         [ 0,  0,  0],\n",
       "         [ 0,  0,  0],\n",
       "         ..., \n",
       "         [ 0,  0,  0],\n",
       "         [ 0,  0,  0],\n",
       "         [ 0,  0,  0]],\n",
       " \n",
       "        [[ 0,  0,  0],\n",
       "         [ 0,  0,  0],\n",
       "         [ 0,  0,  0],\n",
       "         ..., \n",
       "         [ 0,  0,  0],\n",
       "         [ 0,  0,  0],\n",
       "         [ 0,  0,  0]],\n",
       " \n",
       "        [[ 0,  0,  0],\n",
       "         [ 0,  0,  0],\n",
       "         [ 0,  0,  0],\n",
       "         ..., \n",
       "         [ 0,  0,  0],\n",
       "         [ 0,  0,  0],\n",
       "         [ 0,  0,  0]],\n",
       " \n",
       "        ..., \n",
       "        [[ 0,  0,  0],\n",
       "         [ 0,  0,  0],\n",
       "         [ 0,  0,  0],\n",
       "         ..., \n",
       "         [91, 91, 91],\n",
       "         [91, 91, 91],\n",
       "         [91, 91, 91]],\n",
       " \n",
       "        [[ 0,  0,  0],\n",
       "         [ 0,  0,  0],\n",
       "         [ 0,  0,  0],\n",
       "         ..., \n",
       "         [94, 94, 94],\n",
       "         [93, 93, 93],\n",
       "         [87, 87, 87]],\n",
       " \n",
       "        [[ 0,  0,  0],\n",
       "         [ 0,  0,  0],\n",
       "         [ 0,  0,  0],\n",
       "         ..., \n",
       "         [93, 93, 93],\n",
       "         [88, 88, 88],\n",
       "         [79, 79, 79]]], dtype=uint8), '/home/jsk/GitHub/cv2stuff/cv2stuff/tests/images/calibresult.jpg')"
      ]
     },
     "execution_count": 23,
     "metadata": {},
     "output_type": "execute_result"
    }
   ],
   "source": [
    "# crop the image\n",
    "#x,y,w,h = roi\n",
    "#dst = dst[y:y+h, x:x+w]\n",
    "\n",
    "cal_image = str(calibration_images_path) + '/' + 'calibresult.jpg'\n",
    "\n",
    "written = cv2.imwrite(cal_image, dst)\n",
    "roi, dst, cal_image"
   ]
  },
  {
   "cell_type": "code",
   "execution_count": 24,
   "metadata": {
    "collapsed": false
   },
   "outputs": [
    {
     "data": {
      "text/plain": [
       "(array([[  8.62281200e+06,   8.54637200e+06,   8.47056100e+06, ...,\n",
       "          -2.88052656e+05,  -2.91261188e+05,  -2.94498312e+05],\n",
       "        [  8.56564100e+06,   8.48957800e+06,   8.41414200e+06, ...,\n",
       "          -2.84118625e+05,  -2.87288906e+05,  -2.90487500e+05],\n",
       "        [  8.50886600e+06,   8.43317900e+06,   8.35811500e+06, ...,\n",
       "          -2.80230312e+05,  -2.83362719e+05,  -2.86523188e+05],\n",
       "        ..., \n",
       "        [  1.65388300e+06,   1.63096462e+06,   1.60831988e+06, ...,\n",
       "           1.12884987e+02,   8.99150772e+01,   6.60684128e+01],\n",
       "        [  1.65771762e+06,   1.63476125e+06,   1.61207875e+06, ...,\n",
       "           9.89884262e+01,   7.56405411e+01,   5.14069099e+01],\n",
       "        [  1.66160638e+06,   1.63861125e+06,   1.61589050e+06, ...,\n",
       "           8.47291107e+01,   6.09951248e+01,   3.63662453e+01]], dtype=float32),\n",
       " array([[  7.57184200e+06,   7.51999000e+06,   7.46847950e+06, ...,\n",
       "           8.62801312e+05,   8.66407000e+05,   8.70047688e+05],\n",
       "        [  7.50272350e+06,   7.45123100e+06,   7.40007850e+06, ...,\n",
       "           8.48894938e+05,   8.52458812e+05,   8.56057312e+05],\n",
       "        [  7.43420350e+06,   7.38306800e+06,   7.33227100e+06, ...,\n",
       "           8.35183750e+05,   8.38706188e+05,   8.42262875e+05],\n",
       "        ..., \n",
       "        [ -2.89594312e+05,  -2.86158625e+05,  -2.82757094e+05, ...,\n",
       "           9.47169266e+01,   8.21084518e+01,   6.91568451e+01],\n",
       "        [ -2.93926719e+05,  -2.90442344e+05,  -2.86992594e+05, ...,\n",
       "           8.46400986e+01,   7.17028046e+01,   5.84149971e+01],\n",
       "        [ -2.98285750e+05,  -2.94752500e+05,  -2.91254344e+05, ...,\n",
       "           7.41331406e+01,   6.08593941e+01,   4.72276306e+01]], dtype=float32))"
      ]
     },
     "execution_count": 24,
     "metadata": {},
     "output_type": "execute_result"
    }
   ],
   "source": [
    "# undistort\n",
    "mapx, mapy = cv2.initUndistortRectifyMap(mtx, dist, None, newcameramtx, (w,h), 5)\n",
    "mapx, mapy"
   ]
  },
  {
   "cell_type": "code",
   "execution_count": 26,
   "metadata": {
    "collapsed": false
   },
   "outputs": [
    {
     "data": {
      "text/plain": [
       "array([[[ 0,  0,  0],\n",
       "        [ 0,  0,  0],\n",
       "        [ 0,  0,  0],\n",
       "        ..., \n",
       "        [ 0,  0,  0],\n",
       "        [ 0,  0,  0],\n",
       "        [ 0,  0,  0]],\n",
       "\n",
       "       [[ 0,  0,  0],\n",
       "        [ 0,  0,  0],\n",
       "        [ 0,  0,  0],\n",
       "        ..., \n",
       "        [ 0,  0,  0],\n",
       "        [ 0,  0,  0],\n",
       "        [ 0,  0,  0]],\n",
       "\n",
       "       [[ 0,  0,  0],\n",
       "        [ 0,  0,  0],\n",
       "        [ 0,  0,  0],\n",
       "        ..., \n",
       "        [ 0,  0,  0],\n",
       "        [ 0,  0,  0],\n",
       "        [ 0,  0,  0]],\n",
       "\n",
       "       ..., \n",
       "       [[ 0,  0,  0],\n",
       "        [ 0,  0,  0],\n",
       "        [ 0,  0,  0],\n",
       "        ..., \n",
       "        [91, 91, 91],\n",
       "        [91, 91, 91],\n",
       "        [91, 91, 91]],\n",
       "\n",
       "       [[ 0,  0,  0],\n",
       "        [ 0,  0,  0],\n",
       "        [ 0,  0,  0],\n",
       "        ..., \n",
       "        [94, 94, 94],\n",
       "        [93, 93, 93],\n",
       "        [87, 87, 87]],\n",
       "\n",
       "       [[ 0,  0,  0],\n",
       "        [ 0,  0,  0],\n",
       "        [ 0,  0,  0],\n",
       "        ..., \n",
       "        [93, 93, 93],\n",
       "        [88, 88, 88],\n",
       "        [79, 79, 79]]], dtype=uint8)"
      ]
     },
     "execution_count": 26,
     "metadata": {},
     "output_type": "execute_result"
    }
   ],
   "source": [
    "dst = cv2.remap(img, mapx, mapy, cv2.INTER_LINEAR)\n",
    "dst"
   ]
  }
 ],
 "metadata": {
  "kernelspec": {
   "display_name": "Python 3",
   "language": "python",
   "name": "python3"
  },
  "language_info": {
   "codemirror_mode": {
    "name": "ipython",
    "version": 3
   },
   "file_extension": ".py",
   "mimetype": "text/x-python",
   "name": "python",
   "nbconvert_exporter": "python",
   "pygments_lexer": "ipython3",
   "version": "3.5.1"
  }
 },
 "nbformat": 4,
 "nbformat_minor": 0
}
